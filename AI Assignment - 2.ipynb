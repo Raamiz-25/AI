{
 "cells": [
  {
   "cell_type": "code",
   "execution_count": 1,
   "metadata": {},
   "outputs": [
    {
     "name": "stdout",
     "output_type": "stream",
     "text": [
      "x = 0\n",
      "Global Minimum Point = 10\n"
     ]
    }
   ],
   "source": [
    "import numpy as np\n",
    "x=np.random.uniform(-10, 10)\n",
    "eeta=0.005\n",
    "epochs=200\n",
    "iteration=0\n",
    "while iteration<epochs:\n",
    "    slope=4*(x**3)+6*x\n",
    "    step=(-eeta)*slope\n",
    "    x=x+step\n",
    "    iteration=iteration+1\n",
    "x=round(x)\n",
    "obj = x**4+3*(x**2)+10\n",
    "print('x =',x)\n",
    "print('Global Minimum Point =',obj)"
   ]
  }
 ],
 "metadata": {
  "interpreter": {
   "hash": "9e5c4f5bf5b4b89c40acc96fc06a3931fa95b0996209b61e3a1915ff4559d9c4"
  },
  "kernelspec": {
   "display_name": "Python 3.8.8 64-bit ('base': conda)",
   "name": "python3"
  },
  "language_info": {
   "codemirror_mode": {
    "name": "ipython",
    "version": 3
   },
   "file_extension": ".py",
   "mimetype": "text/x-python",
   "name": "python",
   "nbconvert_exporter": "python",
   "pygments_lexer": "ipython3",
   "version": "3.8.8"
  },
  "orig_nbformat": 4
 },
 "nbformat": 4,
 "nbformat_minor": 2
}
