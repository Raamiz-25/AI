{
 "cells": [
  {
   "cell_type": "code",
   "execution_count": 1,
   "id": "dfe8bb97",
   "metadata": {},
   "outputs": [
    {
     "name": "stdout",
     "output_type": "stream",
     "text": [
      "Amount of wheat - 97.89473684210526\n",
      "Amount of Barley - 7.368421052631579\n",
      "Total profit - 5778.9473684210525\n"
     ]
    }
   ],
   "source": [
    "#Import linprog\n",
    "from scipy.optimize import linprog\n",
    "\n",
    "#Objective Function\n",
    "ob = [-50, -120]\n",
    "\n",
    "#Constraints\n",
    "#10x+30y=1200 -> x+3y=120\n",
    "#7000x+2000y=700000 -> 7x+2y=700\n",
    "#x+y=110\n",
    "I = [[1,3], [7,2], [1,1]]\n",
    "O = [120, 700, 110]\n",
    "\n",
    "#Boundaries -> (0,inf)\n",
    "boundaries=[(0,float(\"inf\")),(0,float(\"inf\"))]\n",
    "\n",
    "#Applying linprog\n",
    "optimize = linprog(c=ob, A_ub=I, b_ub=O, bounds=boundaries, method=\"Simplex\")\n",
    "\n",
    "#Storing values of x and y and calculating profit\n",
    "x,y = optimize.x\n",
    "profit = x*50 + y*120\n",
    "\n",
    "#Printing values\n",
    "print(f'Amount of wheat - {x}')\n",
    "print(f'Amount of Barley - {y}')\n",
    "print(f'Total profit - {profit}')"
   ]
  },
  {
   "cell_type": "code",
   "execution_count": null,
   "id": "b5c566c0",
   "metadata": {},
   "outputs": [],
   "source": []
  }
 ],
 "metadata": {
  "interpreter": {
   "hash": "fae5e528f3ff6a6191d1bedd6d366622c68ce8b570c8f0744fbcb533a9f30f61"
  },
  "kernelspec": {
   "display_name": "Python 3.9.7 64-bit (windows store)",
   "name": "python3"
  },
  "language_info": {
   "codemirror_mode": {
    "name": "ipython",
    "version": 3
   },
   "file_extension": ".py",
   "mimetype": "text/x-python",
   "name": "python",
   "nbconvert_exporter": "python",
   "pygments_lexer": "ipython3",
   "version": "3.9.7"
  }
 },
 "nbformat": 4,
 "nbformat_minor": 5
}
